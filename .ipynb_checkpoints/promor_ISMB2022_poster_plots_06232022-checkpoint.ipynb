{
 "cells": [
  {
   "cell_type": "markdown",
   "id": "1c946188",
   "metadata": {},
   "source": [
    "# ISMB 2022 poster - promor: An integrative approach for proteomics data analysis and modeling\n",
    "\n",
    "\n",
    "#### Chathurani Ranathunge\n",
    "\n",
    "This Jupyter Notebook provides code for the data analysis and plots shown on our ISMB 2022 poster.\n",
    "\n",
    "\n"
   ]
  },
  {
   "cell_type": "code",
   "execution_count": null,
   "id": "4e4cbd8e",
   "metadata": {},
   "outputs": [],
   "source": [
    "library(promor)\n",
    "library(ggplot2)\n",
    "library(viridis)\n",
    "library(VennDiagram) "
   ]
  },
  {
   "cell_type": "markdown",
   "id": "9d88265f",
   "metadata": {},
   "source": [
    "# 1. Benchmarking\n",
    "## 1.1 promor results"
   ]
  },
  {
   "cell_type": "code",
   "execution_count": null,
   "id": "6f59c2bf",
   "metadata": {},
   "outputs": [],
   "source": [
    "#Create a raw_df object with proteinGroups.txt and exp_design file\n",
    "raw_df <- create_df(prot_groups = \"https://raw.githubusercontent.com/caranathunge/promor_example_data/main/PXD000279_proteinGroups.txt\",\n",
    "                    exp_design = \"https://raw.githubusercontent.com/caranathunge/promor_example_data/main/PXD000279_expDesign.txt\",\n",
    "                    uniq_pep = 1)\n",
    "\n",
    "#Filter out proteins with higher than 34% missing data in each one group (in other words - requires 66% valid data in at least one group to retain the protein)\n",
    "raw_df_filt <- filterbygroup_na(raw_df, set_na = 0.34, filter_condition = \"each\")\n",
    "\n",
    "#Impute missing data\n",
    "imp_df <- impute_na(raw_df_filt, seed = 327)\n",
    "\n",
    "#Non-normalized to compare with LFQ-Analyst\n",
    "norm_df <- normalize_data(imp_df, method = \"none\")\n",
    "\n",
    "#Find DE proteins\n",
    "fit_df <- find_dep(norm_df)\n",
    "\n",
    "#Save results from all 1446 DE proteins\n",
    "fit_df <- find_dep(norm_df, n_top = 1446, save_tophits = TRUE, save_output = TRUE, file_path = \".\")\n",
    "\n",
    "#Upload the TopHits\n",
    "de_promor <- read.csv(\"./TopHits.txt\", sep = \"\\t\")\n",
    "\n",
    "#Add a Protein.IDs column to promor results by extracting the first protein from majority_protein_ids\n",
    "de_promor$Protein.IDs <- sapply(strsplit(as.character(de_promor$majority_protein_id),';'), \"[\", 1)\n",
    "\n",
    "#Extract only those columns we need from de_promor\n",
    "de_promor <- de_promor[,c(\"Protein.IDs\",\"P.Value\",\"logFC\" )]\n",
    "\n",
    "#Add a new column with the method information\n",
    "de_promor$method <- \"promor\"\n",
    "\n",
    "#Let's give both data frames similar column names\n",
    "colnames(de_promor) <- c(\"protein\", \"p_value\", \"log_fc\", \"method\")\n",
    "\n",
    "#Make a list object to build a venn diagram \n",
    "de_promor_prot <- de_promor$protein"
   ]
  },
  {
   "cell_type": "markdown",
   "id": "62cc0ba2",
   "metadata": {},
   "source": [
    "## 1.2 LFQ-Analyst results \n",
    "\n",
    "**Input data**\n",
    "\n",
    "proteinGroups.txt file: https://raw.githubusercontent.com/caranathunge/promor_example_data/main/PXD000279_proteinGroups.txt\n",
    "lfq-analyst experimental design file: https://raw.githubusercontent.com/caranathunge/promor_example_data/main/benchmarking/PXD000279_lfqanalyst_expdesign.txt\n",
    "\n",
    "**Parameters used:**\n",
    "\n",
    "Adjusted p-value cutoff = 0.05,\n",
    "Log-2-fold change cutoff = 1,\n",
    "Imputation type : MinProb method,\n",
    "Type of FDR correction: Benjamini Hochberg method,\n",
    "\n",
    "**Results**\n",
    "\n",
    "LFQ-Analyst identified 1409 significantly differentially expressed proteins between H and L conditions.\\\n",
    "Complete results from the DE analysis were saved as: \"https://raw.githubusercontent.com/caranathunge/promor_example_data/main/benchmarking/PXD000279_lfqanalyst_results.csv\""
   ]
  },
  {
   "cell_type": "code",
   "execution_count": null,
   "id": "e43a4ede",
   "metadata": {},
   "outputs": [],
   "source": [
    "#Upload LFQ-Analyst results\n",
    "lfq_analyst_results <- read.csv(\"https://raw.githubusercontent.com/caranathunge/promor_example_data/main/benchmarking/PXD000279_lfqanalyst_results.csv\")\n",
    "\n",
    "#Reduce the data frame to significant hits and limit the data frame to only those columns we need\n",
    "de_lfq_analyst <- lfq_analyst_results[lfq_analyst_results$significant == 'TRUE',c(\"Protein.IDs\",\n",
    "                                                                                  \"H_vs_L_p.val\",\n",
    "                                                                                  \"H_vs_L_log2.fold.change\")]\n",
    "\n",
    "#Add a new column with the name of the method used\n",
    "de_lfq_analyst$method <- \"LFQ-Analyst\"\n",
    "\n",
    "#Let's give both data frames similar column names\n",
    "colnames(de_lfq_analyst) <- c(\"protein\", \"p_value\", \"log_fc\", \"method\")\n",
    "\n",
    "#Make a list object to build a venn diagram \n",
    "de_lfq_analyst_prot <- de_lfq_analyst$protein"
   ]
  },
  {
   "cell_type": "markdown",
   "id": "bf53e04c",
   "metadata": {},
   "source": [
    "## 1.3 Compare results from the two packages"
   ]
  },
  {
   "cell_type": "code",
   "execution_count": null,
   "id": "22a2422a",
   "metadata": {},
   "outputs": [],
   "source": [
    "#Make a plot\n",
    "venn.diagram(list(\"promor\" = de_promor_prot, \"LFQ_Analyst\" = de_lfq_analyst_prot), \n",
    "             fill = c(\"#17456B\",\"#ACF0F2\"), \n",
    "             alpha = c(0.5, 0.5), \n",
    "             resolution = 400,\n",
    "             lwd = 5, \n",
    "             filename = \"./venn_diagram.tiff\",\n",
    "             scaled = TRUE,\n",
    "             ext.pos = 0,\n",
    "             ext.percent = 0.5,\n",
    "             fontface = \"bold\",\n",
    "             ext.line.lwd = 3\n",
    "            )\n"
   ]
  },
  {
   "cell_type": "markdown",
   "id": "72bd7f4d",
   "metadata": {},
   "source": [
    "# 2. Quality Control & Visualization"
   ]
  },
  {
   "cell_type": "markdown",
   "id": "fc3040c7",
   "metadata": {},
   "source": [
    "## 2.1 Technical replicate correlation"
   ]
  },
  {
   "cell_type": "code",
   "execution_count": null,
   "id": "cf7d6b38",
   "metadata": {},
   "outputs": [],
   "source": [
    "#Upload the data\n",
    "raw_df1 <- create_df(prot_groups = \"https://raw.githubusercontent.com/caranathunge/promor_example_data/main/PXD001584_proteinGroups.txt\",\n",
    "                 exp_design = \"https://raw.githubusercontent.com/caranathunge/promor_example_data/main/PXD001584_expDesign.txt\",\n",
    "                 uniq_pep = 1,\n",
    "                 tech_reps = TRUE)\n",
    "\n",
    "#Make correlation plots\n",
    "corr_plot(raw_df1, rep1 = 1, rep2 = 2, \n",
    "          file_type = \"png\", save = TRUE, file_path = \".\",\n",
    "          dpi = 300, text_size = 20, \n",
    "          n_row = 3, n_col = 2, \n",
    "          palette = \"mako\")"
   ]
  },
  {
   "cell_type": "markdown",
   "id": "41b4c33f",
   "metadata": {},
   "source": [
    "## 2.2 Missing data distribution - heatmap"
   ]
  },
  {
   "cell_type": "code",
   "execution_count": null,
   "id": "a7c13fad",
   "metadata": {},
   "outputs": [],
   "source": [
    "#Calculate average across tech reps\n",
    "rawdf1_avg <- aver_techreps(raw_df1)\n",
    "\n",
    "#Filter proteins by group level missing data\n",
    "rawdf1_filt <- filterbygroup_na(rawdf1_avg, set_na = 0.50, filter_condition = \"each\")\n",
    "\n",
    "#Make missing data heatmap\n",
    "heatmap_na(rawdf1_filt, text_size = 15, reorder_y = TRUE,  save = TRUE, file_path = \".\", file_type = \"png\", dpi = 300, palette = \"mako\")"
   ]
  },
  {
   "cell_type": "markdown",
   "id": "edb84b3c",
   "metadata": {},
   "source": [
    "## 2.3 Missing data imputation - density plots"
   ]
  },
  {
   "cell_type": "code",
   "execution_count": null,
   "id": "43ae79a3",
   "metadata": {},
   "outputs": [],
   "source": [
    "#Impute missing data using minDet method\n",
    "imp_df1 <- impute_na(rawdf1_filt, method = \"minDet\", seed = 327)\n",
    "\n",
    "#Visulaize missing data imputation\n",
    "impute_plot(original = rawdf1_filt, imputed = imp_df1,\n",
    "            global = FALSE,  n_col = 2, n_row = 3, \n",
    "            dpi = 300, save = TRUE, file_path = \".\", \n",
    "            file_type = \"png\", palette = \"mako\", text_size = 20)"
   ]
  },
  {
   "cell_type": "markdown",
   "id": "5516f254",
   "metadata": {},
   "source": [
    "## 2.4 Data normalization - density plots"
   ]
  },
  {
   "cell_type": "code",
   "execution_count": null,
   "id": "b2785d35",
   "metadata": {},
   "outputs": [],
   "source": [
    "#Normalize the data set\n",
    "norm_df1 <- normalize_data(imp_df1, method = \"quantile\")\n",
    "\n",
    "#Make density plots to compare before and after\n",
    "norm_plot(original = imp_df1, normalized = norm_df1, \n",
    "          type = \"density\", save = TRUE, file_path = \".\", dpi = 300,\n",
    "          file_type = \"png\", palette = \"mako\", text_size = 30)"
   ]
  },
  {
   "cell_type": "markdown",
   "id": "42b0b33e",
   "metadata": {},
   "source": [
    "# 3. Differential expression analysis\n",
    "## 3.1 Volcano plot\n",
    "For visual impact, we used a different data set to create the volcano plot on the poster"
   ]
  },
  {
   "cell_type": "code",
   "execution_count": null,
   "id": "0a497b0d",
   "metadata": {},
   "outputs": [],
   "source": [
    "#Upload data set 2\n",
    "raw_df2 <- create_df(prot_groups = \"https://raw.githubusercontent.com/caranathunge/promor_example_data/main/PXD000279_proteinGroups.txt\",\n",
    "                 exp_design = \"https://raw.githubusercontent.com/caranathunge/promor_example_data/main/PXD000279_expDesign.txt\",\n",
    "                 uniq_pep = 2)\n",
    "\n",
    "#Filter by group level missing data\n",
    "rawdf2_filt <- filterbygroup_na(raw_df2, set_na = 0.34, filter_condition = \"each\")\n",
    "\n",
    "#Impute missing data\n",
    "imp_df2 <- impute_na(rawdf2_filt, method = \"kNN\", seed = 327)\n",
    "\n",
    "#Normalize data\n",
    "norm_df2 <- normalize_data(imp_df2)\n",
    "\n",
    "#Find DE proteins\n",
    "fit_df2 <- find_dep(norm_df2)\n",
    "\n",
    "#Make volcano plot\n",
    "volcano_plot(fit_df2, save = TRUE, file_path = \".\",\n",
    "             file_name = \"volcano_plot_ecoli\", dpi = 300, \n",
    "             file_type = \"png\", palette = \"mako\", text_size = 15)"
   ]
  },
  {
   "cell_type": "markdown",
   "id": "7ca59f66",
   "metadata": {},
   "source": [
    "## 3.2 Heatmap - DE proteins\n",
    "A third data set was used for the heatmap and the modeling plots"
   ]
  },
  {
   "cell_type": "code",
   "execution_count": null,
   "id": "c2a9b566",
   "metadata": {},
   "outputs": [],
   "source": [
    "#Upload data set 3\n",
    "raw_df3 <- create_df(prot_groups = \"https://raw.githubusercontent.com/caranathunge/promor_example_data/main/PXD022296_proteinGroups_subset.txt\",\n",
    "                  exp_design = \"https://raw.githubusercontent.com/caranathunge/promor_example_data/main/PXD022296_expDesign_subset.txt\",\n",
    "                  uniq_pep = 2)\n",
    "\n",
    "#Filter by group level missing data\n",
    "rawdf3_filt <- filterbygroup_na(raw_df3, set_na = 0.34, filter_condition = \"each\")\n",
    "\n",
    "#Impute missing data\n",
    "imp_df3 <- impute_na(rawdf3_filt, method = \"kNN\", seed = 327)\n",
    "\n",
    "#Normalize data\n",
    "norm_df3 <- normalize_data(imp_df3)\n",
    "\n",
    "#Find DE proteins\n",
    "fit_df3 <- find_dep(norm_df3, cutoff = 0.1)\n",
    "\n",
    "#Make a heatmap of top 20 DE proteins\n",
    "heatmap_de(fit_df = fit_df3, norm_df = norm_df3, \n",
    "           n_top = 20, cutoff = 0.1, \n",
    "           save = TRUE, file_path = \".\", dpi = 300, file_name = \"heatmap_covid\",\n",
    "           file_type = \"png\", palette = \"mako\")"
   ]
  },
  {
   "cell_type": "markdown",
   "id": "14d79f3b",
   "metadata": {},
   "source": [
    "# 4. Feature selection\n",
    "## 4.1 Feature plots"
   ]
  },
  {
   "cell_type": "code",
   "execution_count": null,
   "id": "c5798797",
   "metadata": {},
   "outputs": [],
   "source": [
    "#create a model_df object\n",
    "model_df3 <- pre_process(fit_df = fit_df3, norm_df = norm_df3, sig_cutoff = 0.06)\n",
    "\n",
    "#Make feature plots\n",
    "feature_plot(model_df3,  save = TRUE,  \n",
    "             type = \"density\", dpi = 300, file_name = \"feature_covid_density\", \n",
    "             file_path = \".\", file_type = \"png\",  n_col = 2, n_row = 3,\n",
    "             plot_width = 3, plot_height = 15, \n",
    "             palette = \"mako\", text_size = 20)\n"
   ]
  },
  {
   "cell_type": "markdown",
   "id": "d0e7384a",
   "metadata": {},
   "source": [
    "## 4.2 Variable importance plots"
   ]
  },
  {
   "cell_type": "code",
   "execution_count": null,
   "id": "5c2f75ad",
   "metadata": {},
   "outputs": [],
   "source": [
    "#split the model_df object into training and test data\n",
    "split_df3 <- split_data(model_df3, train_size = 0.5, seed = 8314)\n",
    "\n",
    "#train models on training data\n",
    "model_list <- train_models(split_df3, resample_method = \"repeatedcv\", seed = 351)\n",
    "\n",
    "#Make variable importance plots\n",
    "varimp_plot(model_list, save = TRUE,  \n",
    "            plot_width = 28, plot_height = 20, \n",
    "            n_col = 2, n_row = 2 ,\n",
    "            text_size = 30, dpi = 300, file_path = \".\", file_type = \"png\", \n",
    "            file_name = \"varimp_covid\", palette = \"mako\")"
   ]
  },
  {
   "cell_type": "markdown",
   "id": "cadbfb43",
   "metadata": {},
   "source": [
    "# 5. Model building & Evaluation\n",
    "## 5.1 Performance plots"
   ]
  },
  {
   "cell_type": "code",
   "execution_count": null,
   "id": "b5d6915e",
   "metadata": {},
   "outputs": [],
   "source": [
    "performance_plot(model_list, type = \"dot\", \n",
    "                 dpi = 300, file_name = \"covid_performance\", \n",
    "                 file_type = \"png\", save = TRUE, file_path = \".\", palette = \"mako\", \n",
    "                 text_size = 20, plot_height = 5)"
   ]
  },
  {
   "cell_type": "markdown",
   "id": "e34f6f59",
   "metadata": {},
   "source": [
    "## 5.2 ROC plots"
   ]
  },
  {
   "cell_type": "code",
   "execution_count": null,
   "id": "726d389d",
   "metadata": {},
   "outputs": [],
   "source": [
    "#Test the models on the test data\n",
    "prob_list <- test_models(model_list = model_list, split_df = split_df3)\n",
    "\n",
    "#Make ROC curves\n",
    "roc_plot(probability_list = prob_list, split_df = split_df3,\n",
    "         save = TRUE, file_path = \".\", file_name = \"covid_roc\", file_type = \"png\", \n",
    "         dpi = 300, palette = \"mako\", \n",
    "         plot_height = 14, plot_width = 14, text_size = 30)"
   ]
  }
 ],
 "metadata": {
  "kernelspec": {
   "display_name": "R",
   "language": "R",
   "name": "ir"
  },
  "language_info": {
   "codemirror_mode": "r",
   "file_extension": ".r",
   "mimetype": "text/x-r-source",
   "name": "R",
   "pygments_lexer": "r",
   "version": "4.1.2"
  }
 },
 "nbformat": 4,
 "nbformat_minor": 5
}
